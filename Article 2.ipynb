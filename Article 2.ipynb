{
 "cells": [
  {
   "cell_type": "markdown",
   "metadata": {},
   "source": [
    "### NLP(Natural Language Processing)-machine learning Classification  2 "
   ]
  },
  {
   "cell_type": "markdown",
   "metadata": {},
   "source": [
    "Dans l'article précédent, vous avez découvert différentes méthodes d'extraction, telles que la tokenisation, le stemming, la lemmatisation et la suppression de mots vides, qui sont utilisées pour extraire des fonctionnalités d'un texte non structuré. Nous avons également discuté du bag-of-words et (TF-IDF).\n",
    "Dans cet article  vous apprendrez à utiliser ces fonctionnalités pour développer des modèles de classification de texte. \n",
    "\n",
    "Les algorithmes de classification de texte sont au cœur d'une variété de systèmes logiciels qui traitent les données de texte à grande échelle. Le logiciel de messagerie utilise une classification de texte pour déterminer si le courrier entrant est envoyé dans la boîte de réception ou filtré dans le dossier spam. Les forums de discussion utilisent la classification de texte pour déterminer si les commentaires doivent être signalés comme inappropriés. \n",
    "\n",
    "Un autre type courant de classification de texte est l'analyse des sentiments , dont le but est d'identifier la polarité du contenu du texte: le type d'opinion qu'il exprime. Cela peut prendre la forme d'une évaluation binaire comme \n",
    "j'aime/ je n'aime pas, ou un ensemble d'options, comme une évaluation par étoiles de 1 à 5. Les exemples d'analyse de sentiment incluent l'analyse des publications Twitter pour déterminer si les gens ont aimé le film Black Panther, ou extrapolant l'opinion du grand public sur une nouvelle marque de chaussures Nike issue des revues Walmart.\n",
    "\n",
    "Ce guide vous apprendra quelques bonnes pratiques d'apprentissage automatique clés pour résoudre les problèmes de classification de texte. Voici ce que vous apprendrez:\n",
    "\n",
    "* Le flux de travail de haut niveau de bout en bout pour résoudre les problèmes de classification de texte à l'aide de l'apprentissage automatique\n",
    "* Comment choisir le bon modèle pour votre problème de classification de texte\n",
    "* Comment implémenter votre modèle de choix"
   ]
  },
  {
   "cell_type": "markdown",
   "metadata": {},
   "source": [
    "## Workflow de classification de texte"
   ]
  },
  {
   "cell_type": "markdown",
   "metadata": {},
   "source": [
    "Voici un aperçu de haut niveau du flux de travail utilisé pour résoudre les problèmes d'apprentissage automatique:\n",
    "\n",
    "* Étape 1: recueillir des données\n",
    "* Étape 2: explorez vos données\n",
    "* Étape 2.5: Choisissez un modèle *\n",
    "* Étape 3: Préparez vos données\n",
    "* Étape 4: Créez, formez et évaluez votre modèle\n",
    "* Étape 5: régler les hyperparamètres\n",
    "* Étape 6: déployez votre modèle"
   ]
  },
  {
   "cell_type": "markdown",
   "metadata": {},
   "source": [
    "## Étape 1: recueillir des données\n",
    "La collecte de données est l'étape la plus importante pour résoudre tout problème d'apprentissage automatique supervisé. Votre classificateur de texte ne peut être aussi bon que l'ensemble de données à partir duquel il est construit.\n",
    "\n",
    "Tout au long de ce guide, nous utiliserons l'ensemble de données de Produits Cdiscount. Il s'agit d'une version simplifiée du concours proposé par Cdiscount et paru sur le site datascience.net. Les données d'apprentissage sont accessibles sur demande auprès de Cdiscount mais les solutions de l'échantillon test du concours ne sont pas et ne seront pas rendues publiques. Un échantillon test est donc construit pour l'usage de cet Article. L'objectif est de prévoir la catégorie d'un produit à partir de son descriptif . Seule la catégorie principale (1er niveau, 47 classes) est prédite au lieu des trois niveaux demandés dans le concours. L'objectif est plutôt de comparer les performances des méthodes et technologies en fonction de la taille de la base d'apprentissage ainsi que d'illustrer sur un exemple complexe le prétraitement de données textuelles."
   ]
  },
  {
   "cell_type": "markdown",
   "metadata": {},
   "source": [
    "## Étape 2: explorez vos données\n",
    "La création et la formation d'un modèle ne sont qu'une partie du flux de travail. Comprendre les caractéristiques de vos données au préalable vous permettra de construire un meilleur modèle. Cela pourrait simplement signifier obtenir une précision plus élevée. Cela pourrait également signifier exiger moins de données pour la formation ou moins de ressources de calcul."
   ]
  },
  {
   "cell_type": "markdown",
   "metadata": {},
   "source": [
    "### Charger l'ensemble de données\n",
    "\n",
    "Tout d'abord, chargeons l'ensemble de données dans Python\n",
    "\n",
    "##### Read & Split Dataset\n",
    "\n",
    "On définit une fonction permettant de lire le fichier d'apprentissage et de créer deux DataFrame Pandas, un pour l'apprentissage, l'autre pour la validation. La fonction créée un DataFrame en lisant entièrement le fichier. Puis elle scinde ce DataFrame en deux grâce à la fonction dédiée de sklearn."
   ]
  },
  {
   "cell_type": "code",
   "execution_count": 2,
   "metadata": {},
   "outputs": [],
   "source": [
    "def split_dataset(input_path, nb_line, tauxValid):\n",
    "    data_all = pd.read_csv(input_path,sep=\",\", nrows=nb_line)\n",
    "    data_all = data_all.fillna(\"\")\n",
    "    data_train, data_valid = sms.train_test_split(data_all, test_size = tauxValid,random_state=47)\n",
    "    time_end = time.time()\n",
    "    return data_train, data_valid"
   ]
  },
  {
   "cell_type": "code",
   "execution_count": 3,
   "metadata": {},
   "outputs": [],
   "source": [
    "import sklearn.model_selection as sms\n",
    "import pandas as pd\n",
    "import time\n",
    "import matplotlib.pyplot as plt\n",
    "from sklearn.feature_extraction.text import CountVectorizer"
   ]
  },
  {
   "cell_type": "code",
   "execution_count": 4,
   "metadata": {},
   "outputs": [
    {
     "name": "stdout",
     "output_type": "stream",
     "text": [
      "Train set : 40000 elements, Validation set : 10000 elements\n"
     ]
    }
   ],
   "source": [
    "input_path = \"data/cdiscount_train.csv.zip\"\n",
    "nb_line=50000 # part totale extraite du fichier initial ici déjà réduit\n",
    "tauxValid = 0.2\n",
    "data_train, data_valid = split_dataset(input_path, nb_line, tauxValid)\n",
    "data_train.reset_index(inplace = True)\n",
    "data_valid.reset_index(inplace = True)\n",
    "\n",
    "N_train = data_train.shape[0]\n",
    "N_valid = data_valid.shape[0]\n",
    "print(\"Train set : %d elements, Validation set : %d elements\" %(N_train, N_valid))"
   ]
  },
  {
   "cell_type": "code",
   "execution_count": null,
   "metadata": {},
   "outputs": [],
   "source": []
  },
  {
   "cell_type": "markdown",
   "metadata": {},
   "source": [
    "###### Vérifiez les données\n",
    "Après avoir chargé les données, il est recommandé de procéder à certaines vérifications : choisissez quelques échantillons et vérifiez manuellement s'ils sont conformes à vos attentes. Par exemple, imprimez quelques échantillons aléatoires pour voir si l'étiquette correspond a la description."
   ]
  },
  {
   "cell_type": "markdown",
   "metadata": {},
   "source": [
    "La commande suivante permet d'afficher les premières lignes du fichiers."
   ]
  },
  {
   "cell_type": "code",
   "execution_count": 144,
   "metadata": {},
   "outputs": [
    {
     "data": {
      "text/html": [
       "<div>\n",
       "<style scoped>\n",
       "    .dataframe tbody tr th:only-of-type {\n",
       "        vertical-align: middle;\n",
       "    }\n",
       "\n",
       "    .dataframe tbody tr th {\n",
       "        vertical-align: top;\n",
       "    }\n",
       "\n",
       "    .dataframe thead th {\n",
       "        text-align: right;\n",
       "    }\n",
       "</style>\n",
       "<table border=\"1\" class=\"dataframe\">\n",
       "  <thead>\n",
       "    <tr style=\"text-align: right;\">\n",
       "      <th></th>\n",
       "      <th>index</th>\n",
       "      <th>Categorie1</th>\n",
       "      <th>Categorie2</th>\n",
       "      <th>Categorie3</th>\n",
       "      <th>Description</th>\n",
       "      <th>Libelle</th>\n",
       "      <th>Marque</th>\n",
       "    </tr>\n",
       "  </thead>\n",
       "  <tbody>\n",
       "    <tr>\n",
       "      <th>0</th>\n",
       "      <td>15171</td>\n",
       "      <td>ADULTE - EROTIQUE</td>\n",
       "      <td>SEXTOYS</td>\n",
       "      <td>GODEMICHET - RABIT - VIBROMASSEUR</td>\n",
       "      <td>Gode super réaliste ventouse haute qualité 15c...</td>\n",
       "      <td>Gode super réaliste ventouse haute qualité 15cm</td>\n",
       "      <td>AUCUNE</td>\n",
       "    </tr>\n",
       "    <tr>\n",
       "      <th>1</th>\n",
       "      <td>6969</td>\n",
       "      <td>SONO - DJ</td>\n",
       "      <td>AMPLIFICATION ET RESTITUTION DU SON</td>\n",
       "      <td>MICROPHONE DE CHANT - A MAIN - CRAVATE - MICRO...</td>\n",
       "      <td>Omni-Direct Microphone dynamique - Conçu pour ...</td>\n",
       "      <td>Omni-Direct Microphone dynamique</td>\n",
       "      <td>RADIOSHACK</td>\n",
       "    </tr>\n",
       "    <tr>\n",
       "      <th>2</th>\n",
       "      <td>25133</td>\n",
       "      <td>AUTO - MOTO (NEW)</td>\n",
       "      <td>CONFORT CONDUCTEUR ET PASSAGER</td>\n",
       "      <td>ACCOUDOIRS</td>\n",
       "      <td>Accoudoir pour Citroen C4 II 2010 - Accoudoir ...</td>\n",
       "      <td>Accoudoir pour Citroen C4 II 2010</td>\n",
       "      <td>AUCUNE</td>\n",
       "    </tr>\n",
       "    <tr>\n",
       "      <th>3</th>\n",
       "      <td>21355</td>\n",
       "      <td>TELEPHONIE - GPS</td>\n",
       "      <td>ACCESSOIRE TELEPHONE</td>\n",
       "      <td>COQUE - BUMPER - FACADE TELEPHONE</td>\n",
       "      <td>Coque souple Rose pour HTC ONE MINI motif I LO...</td>\n",
       "      <td>Coque souple Rose pour HTC ONE MINI motif I LOV…</td>\n",
       "      <td>MUZZANO</td>\n",
       "    </tr>\n",
       "    <tr>\n",
       "      <th>4</th>\n",
       "      <td>12737</td>\n",
       "      <td>TELEPHONIE - GPS</td>\n",
       "      <td>ACCESSOIRE TELEPHONE</td>\n",
       "      <td>HOUSSE - ETUI - CHAUSSETTE</td>\n",
       "      <td>Coque rigide Rose pour LG OPTIMUS G2 motif Géo...</td>\n",
       "      <td>Coque rigide Rose pour LG OPTIMUS G2 motif Géom…</td>\n",
       "      <td>MUZZANO</td>\n",
       "    </tr>\n",
       "  </tbody>\n",
       "</table>\n",
       "</div>"
      ],
      "text/plain": [
       "   index          Categorie1                           Categorie2  \\\n",
       "0  15171  ADULTE - EROTIQUE                               SEXTOYS   \n",
       "1   6969           SONO - DJ  AMPLIFICATION ET RESTITUTION DU SON   \n",
       "2  25133   AUTO - MOTO (NEW)       CONFORT CONDUCTEUR ET PASSAGER   \n",
       "3  21355    TELEPHONIE - GPS                 ACCESSOIRE TELEPHONE   \n",
       "4  12737    TELEPHONIE - GPS                 ACCESSOIRE TELEPHONE   \n",
       "\n",
       "                                          Categorie3  \\\n",
       "0                  GODEMICHET - RABIT - VIBROMASSEUR   \n",
       "1  MICROPHONE DE CHANT - A MAIN - CRAVATE - MICRO...   \n",
       "2                                         ACCOUDOIRS   \n",
       "3                  COQUE - BUMPER - FACADE TELEPHONE   \n",
       "4                         HOUSSE - ETUI - CHAUSSETTE   \n",
       "\n",
       "                                         Description  \\\n",
       "0  Gode super réaliste ventouse haute qualité 15c...   \n",
       "1  Omni-Direct Microphone dynamique - Conçu pour ...   \n",
       "2  Accoudoir pour Citroen C4 II 2010 - Accoudoir ...   \n",
       "3  Coque souple Rose pour HTC ONE MINI motif I LO...   \n",
       "4  Coque rigide Rose pour LG OPTIMUS G2 motif Géo...   \n",
       "\n",
       "                                            Libelle      Marque  \n",
       "0   Gode super réaliste ventouse haute qualité 15cm      AUCUNE  \n",
       "1                  Omni-Direct Microphone dynamique  RADIOSHACK  \n",
       "2                 Accoudoir pour Citroen C4 II 2010      AUCUNE  \n",
       "3  Coque souple Rose pour HTC ONE MINI motif I LOV…     MUZZANO  \n",
       "4  Coque rigide Rose pour LG OPTIMUS G2 motif Géom…     MUZZANO  "
      ]
     },
     "execution_count": 144,
     "metadata": {},
     "output_type": "execute_result"
    }
   ],
   "source": [
    "data_train.head(5)"
   ]
  },
  {
   "cell_type": "markdown",
   "metadata": {},
   "source": [
    "Vous pouvez observer que chaque produit possède 3 niveaux de Catégories, qui correspondent au différents niveaux de l'arborescence que vous retrouverez sur le site. Il y a 44 catégories de niveau 1, 428 de niveau 2 et 3170 de niveau 3.\n",
    "Dans cet article, nous nous interesserons uniquement à classer les produits dans la catégorie de niveau 1."
   ]
  },
  {
   "cell_type": "markdown",
   "metadata": {},
   "source": [
    "La commande suivante permet d'afficher un exemple de produits pour chaque Catégorie de niveau 1."
   ]
  },
  {
   "cell_type": "code",
   "execution_count": 145,
   "metadata": {},
   "outputs": [
    {
     "data": {
      "text/html": [
       "<div>\n",
       "<style scoped>\n",
       "    .dataframe tbody tr th:only-of-type {\n",
       "        vertical-align: middle;\n",
       "    }\n",
       "\n",
       "    .dataframe tbody tr th {\n",
       "        vertical-align: top;\n",
       "    }\n",
       "\n",
       "    .dataframe thead th {\n",
       "        text-align: right;\n",
       "    }\n",
       "</style>\n",
       "<table border=\"1\" class=\"dataframe\">\n",
       "  <thead>\n",
       "    <tr style=\"text-align: right;\">\n",
       "      <th></th>\n",
       "      <th>Description</th>\n",
       "      <th>Libelle</th>\n",
       "      <th>Marque</th>\n",
       "    </tr>\n",
       "    <tr>\n",
       "      <th>Categorie1</th>\n",
       "      <th></th>\n",
       "      <th></th>\n",
       "      <th></th>\n",
       "    </tr>\n",
       "  </thead>\n",
       "  <tbody>\n",
       "    <tr>\n",
       "      <th>ADULTE - EROTIQUE</th>\n",
       "      <td>Gode super réaliste ventouse haute qualité 15c...</td>\n",
       "      <td>Gode super réaliste ventouse haute qualité 15cm</td>\n",
       "      <td>AUCUNE</td>\n",
       "    </tr>\n",
       "    <tr>\n",
       "      <th>ANIMALERIE - NEW</th>\n",
       "      <td>Une ambiance douce et relaxante pour votre ani...</td>\n",
       "      <td>Couchette animale Niclas S marron et blanc</td>\n",
       "      <td>AUCUNE</td>\n",
       "    </tr>\n",
       "    <tr>\n",
       "      <th>ARME DE COMBAT - ARME DE SPORT</th>\n",
       "      <td>Tapis micro fibres de la marque EclipseIdéal p...</td>\n",
       "      <td>Tapis micro fibres de la marque Eclipse</td>\n",
       "      <td>PLANET ECLIPSE</td>\n",
       "    </tr>\n",
       "    <tr>\n",
       "      <th>ART DE LA TABLE - ARTICLES CULINAIRES</th>\n",
       "      <td>Sac à tarte Derrière La Porte Le dessert - Sac...</td>\n",
       "      <td>Sac à tarte Derrière La Porte Le dessert</td>\n",
       "      <td>DERRIERE LA PORTE</td>\n",
       "    </tr>\n",
       "    <tr>\n",
       "      <th>ARTICLES POUR FUMEUR</th>\n",
       "      <td>Le vaporisateur Imag+ est joli, discret. Peut ...</td>\n",
       "      <td>IMAG PLUS</td>\n",
       "      <td>AUCUNE</td>\n",
       "    </tr>\n",
       "    <tr>\n",
       "      <th>AUTO - MOTO (NEW)</th>\n",
       "      <td>Accoudoir pour Citroen C4 II 2010 - Accoudoir ...</td>\n",
       "      <td>Accoudoir pour Citroen C4 II 2010</td>\n",
       "      <td>AUCUNE</td>\n",
       "    </tr>\n",
       "    <tr>\n",
       "      <th>BAGAGERIE</th>\n",
       "      <td>Sac bandoulière - Modèle féminin et chic Matiè...</td>\n",
       "      <td>Sac bandoulière</td>\n",
       "      <td>AUCUNE</td>\n",
       "    </tr>\n",
       "    <tr>\n",
       "      <th>BATEAU MOTEUR - VOILIER</th>\n",
       "      <td>ANTIFOULING AEROSOL 500ML - 19990 Noir - Antif...</td>\n",
       "      <td>ANTIFOULING AEROSOL 500ML - 19990 Noir</td>\n",
       "      <td>AUCUNE</td>\n",
       "    </tr>\n",
       "    <tr>\n",
       "      <th>BIJOUX -  LUNETTES - MONTRES</th>\n",
       "      <td>Collier Argent \"Etoile\" blanc - Indémodable et...</td>\n",
       "      <td>Collier Argent \"Etoile\" blanc</td>\n",
       "      <td>LES TRESORS DE LILY</td>\n",
       "    </tr>\n",
       "    <tr>\n",
       "      <th>BRICOLAGE - OUTILLAGE - QUINCAILLERIE</th>\n",
       "      <td>Douchette thérapeutique à économie d'eau - Non...</td>\n",
       "      <td>Douchette thérapeutique à économie d'eau</td>\n",
       "      <td>ARTICLES MAISON.COM</td>\n",
       "    </tr>\n",
       "    <tr>\n",
       "      <th>CHAUSSURES - ACCESSOIRES</th>\n",
       "      <td>tsubo chaussure gris basket homme - tsubo chau...</td>\n",
       "      <td>tsubo chaussure gris ba 40 1/2</td>\n",
       "      <td>TSUBO</td>\n",
       "    </tr>\n",
       "    <tr>\n",
       "      <th>CONDITIONNEMENT</th>\n",
       "      <td>gélules vides - 1000 gélules bovine taille 1 -...</td>\n",
       "      <td>gélules vides - 1000 gélules bovine taille 1</td>\n",
       "      <td>FRANÇOIS NATURE</td>\n",
       "    </tr>\n",
       "    <tr>\n",
       "      <th>CULTURE / JEUX</th>\n",
       "      <td>DVD The terror experiment - La veille de Noël,...</td>\n",
       "      <td>DVD The terror experiment</td>\n",
       "      <td>AUCUNE</td>\n",
       "    </tr>\n",
       "    <tr>\n",
       "      <th>DECO - LINGE - LUMINAIRE</th>\n",
       "      <td>Semainier Magnet Gourmandise Patisserie Vintag...</td>\n",
       "      <td>Semainier Magnet Gourmandise Patisserie Vintag...</td>\n",
       "      <td>PROMOBO</td>\n",
       "    </tr>\n",
       "    <tr>\n",
       "      <th>DROGUERIE (NEW)</th>\n",
       "      <td>ONA GEL - 856 Gr - FRESH LINEN - ONA GEL - Fre...</td>\n",
       "      <td>ONA GEL - 856 Gr - FRESH LINEN</td>\n",
       "      <td>AUCUNE</td>\n",
       "    </tr>\n",
       "    <tr>\n",
       "      <th>ELECTROMENAGER</th>\n",
       "      <td>Sachet inj.gaz nat. pour cuisinière FAGOR  - 2...</td>\n",
       "      <td>Sachet inj.gaz nat. pour cuisinière FAGOR  - 2C…</td>\n",
       "      <td>FAGOR</td>\n",
       "    </tr>\n",
       "    <tr>\n",
       "      <th>ELECTRONIQUE</th>\n",
       "      <td>Relais monostable Phoenix ContactREL-IR/LDP-22...</td>\n",
       "      <td>Relais monostable Phoenix ContactREL-IR/LDP-220…</td>\n",
       "      <td>PHOENIX CONTACT</td>\n",
       "    </tr>\n",
       "    <tr>\n",
       "      <th>EPICERIE</th>\n",
       "      <td>CREME D'AUBERGINES - Crème d'aubergines Absolu...</td>\n",
       "      <td>CREME D'AUBERGINES</td>\n",
       "      <td>AUCUNE</td>\n",
       "    </tr>\n",
       "    <tr>\n",
       "      <th>HYGIENE - BEAUTE - PARFUM</th>\n",
       "      <td>5 bouteilles colles art nail</td>\n",
       "      <td>5 colles art nail</td>\n",
       "      <td>AUCUNE</td>\n",
       "    </tr>\n",
       "    <tr>\n",
       "      <th>INFORMATIQUE</th>\n",
       "      <td>Batterie d'ordinateur toshiba satellite l300-2...</td>\n",
       "      <td>Batterie d'ordinateur toshiba satellite l300-20w</td>\n",
       "      <td>TOSHIBA</td>\n",
       "    </tr>\n",
       "    <tr>\n",
       "      <th>INSTRUMENTS DE MUSIQUE</th>\n",
       "      <td>PACK SAMBA CONTEMPORANEA PRO - 20 INSTRUMENTS ...</td>\n",
       "      <td>PACK SAMBA CONTEMPORANEA PRO - 20 INSTRUMENTS</td>\n",
       "      <td>CONTEMPORANEA</td>\n",
       "    </tr>\n",
       "    <tr>\n",
       "      <th>JARDIN - PISCINE</th>\n",
       "      <td>Idéal pour abriter de façon conviviale les gra...</td>\n",
       "      <td>Tente de jardin Pergola tonnelle Barnum 3 x 4 M</td>\n",
       "      <td>NO NAME</td>\n",
       "    </tr>\n",
       "    <tr>\n",
       "      <th>JOUET (NEW)</th>\n",
       "      <td>Chaussons Juliette la chenille - Une paire de ...</td>\n",
       "      <td>Chaussons Juliette la chenille</td>\n",
       "      <td>LILLIPUTIENS</td>\n",
       "    </tr>\n",
       "    <tr>\n",
       "      <th>LIBRAIRIE</th>\n",
       "      <td>De Edmond-Jean-Francois Barbier aux éditions E...</td>\n",
       "      <td>Chronique de la régence et du règne de Louis X...</td>\n",
       "      <td></td>\n",
       "    </tr>\n",
       "    <tr>\n",
       "      <th>LITERIE</th>\n",
       "      <td>Ensemble Someo Matelas Tamise Confort 2013   S...</td>\n",
       "      <td>Ensemble Someo Matelas Tamise Confort 2013   So…</td>\n",
       "      <td>SOMEO</td>\n",
       "    </tr>\n",
       "    <tr>\n",
       "      <th>LOISIRS CREATIFS - BEAUX ARTS - PAPETERIE</th>\n",
       "      <td>Billet de banque Koweit Pk N° 14 - 5 Dinar - K...</td>\n",
       "      <td>Billet de banque Koweit Pk N° 14 - 5 Dinar</td>\n",
       "      <td>AUCUNE</td>\n",
       "    </tr>\n",
       "    <tr>\n",
       "      <th>MANUTENTION</th>\n",
       "      <td>Vérin à vis - 1 * Vérin à vis H.70-100mm n° 64...</td>\n",
       "      <td>Vérin à vis</td>\n",
       "      <td>AUCUNE</td>\n",
       "    </tr>\n",
       "    <tr>\n",
       "      <th>MATERIEL DE BUREAU</th>\n",
       "      <td>Customcard de Badge style Crocodile le clip po...</td>\n",
       "      <td>Customcard de Badge style Crocodile le clip po...</td>\n",
       "      <td>AUCUNE</td>\n",
       "    </tr>\n",
       "    <tr>\n",
       "      <th>MATERIEL MEDICAL</th>\n",
       "      <td>Dossier Relevable et plateau de rangementTétiè...</td>\n",
       "      <td>TABLE DE MASSAGE FIXE BOIS ONEILLA</td>\n",
       "      <td>COMPTOIR DU MONDE</td>\n",
       "    </tr>\n",
       "    <tr>\n",
       "      <th>MERCERIE</th>\n",
       "      <td>PERLE 3/C - Ofil - La pelote de Laine Perlé 3/...</td>\n",
       "      <td>PERLE 3/C - Ofil</td>\n",
       "      <td>SPERENZA</td>\n",
       "    </tr>\n",
       "    <tr>\n",
       "      <th>MEUBLE</th>\n",
       "      <td>Un maintien parfait, un confort optimal et un ...</td>\n",
       "      <td>Canapé en CUIR 3 places Chocolat LIMA</td>\n",
       "      <td>LA MAISON DU CANAPÉ</td>\n",
       "    </tr>\n",
       "    <tr>\n",
       "      <th>PARAPHARMACIE</th>\n",
       "      <td>NATURACTIVE Jojoba Huile végétale Bio - 50 ml ...</td>\n",
       "      <td>NATURACTIVE Jojoba Huile végétale Bio - 50 ml</td>\n",
       "      <td>NATURACTIVE</td>\n",
       "    </tr>\n",
       "    <tr>\n",
       "      <th>PHOTO - OPTIQUE</th>\n",
       "      <td>Vikuiti MySunshadeDisplay Film de protection é...</td>\n",
       "      <td>Vikuiti MySunshadeDisplay Film de protection é...</td>\n",
       "      <td>VIKUITI</td>\n",
       "    </tr>\n",
       "    <tr>\n",
       "      <th>POINT DE VENTE - COMMERCE - ADMINISTRATION</th>\n",
       "      <td>Vikuiti MySunshadeDisplay Film de protection é...</td>\n",
       "      <td>Vikuiti MySunshadeDisplay Film de protection é...</td>\n",
       "      <td>VIKUITI</td>\n",
       "    </tr>\n",
       "    <tr>\n",
       "      <th>PUERICULTURE</th>\n",
       "      <td>Doudou Bengy licorne plat rose corne bleu etat...</td>\n",
       "      <td>Doudou Bengy licorne plat rose corne bleu etat...</td>\n",
       "      <td>BENGY</td>\n",
       "    </tr>\n",
       "    <tr>\n",
       "      <th>SONO - DJ</th>\n",
       "      <td>Omni-Direct Microphone dynamique - Conçu pour ...</td>\n",
       "      <td>Omni-Direct Microphone dynamique</td>\n",
       "      <td>RADIOSHACK</td>\n",
       "    </tr>\n",
       "    <tr>\n",
       "      <th>SPORT (NEW)</th>\n",
       "      <td>Collants Endura Meryl Knickersii (300 Series P...</td>\n",
       "      <td>Collants Endura Meryl Knick XL</td>\n",
       "      <td>ENDURA</td>\n",
       "    </tr>\n",
       "    <tr>\n",
       "      <th>TATOUAGE - PIERCING</th>\n",
       "      <td>piercing arcade 1.2 mm x 8 mm tige acier</td>\n",
       "      <td>piercing arcade</td>\n",
       "      <td>AUCUNE</td>\n",
       "    </tr>\n",
       "    <tr>\n",
       "      <th>TELEPHONIE - GPS</th>\n",
       "      <td>Coque souple Rose pour HTC ONE MINI motif I LO...</td>\n",
       "      <td>Coque souple Rose pour HTC ONE MINI motif I LOV…</td>\n",
       "      <td>MUZZANO</td>\n",
       "    </tr>\n",
       "    <tr>\n",
       "      <th>TENUE PROFESSIONNELLE</th>\n",
       "      <td>Combinaison de travail pour soudeur ignifugée ...</td>\n",
       "      <td>Combinaison de travail po XL</td>\n",
       "      <td>DASSY</td>\n",
       "    </tr>\n",
       "    <tr>\n",
       "      <th>TV - VIDEO - SON</th>\n",
       "      <td>LG HX922 - Système Home Cinema - aluminium - L...</td>\n",
       "      <td>LG HX922 - Système Home Cinema - aluminium…</td>\n",
       "      <td>LG ELECTRONICS</td>\n",
       "    </tr>\n",
       "    <tr>\n",
       "      <th>VETEMENTS - LINGERIE</th>\n",
       "      <td>REEBOK Bonnet Polaire Alpine Blue Adulte Bleu ...</td>\n",
       "      <td>REEBOK Bonnet Polaire Alpine Blue Adulte Bleu ...</td>\n",
       "      <td>REEBOK</td>\n",
       "    </tr>\n",
       "    <tr>\n",
       "      <th>VIN - ALCOOL - LIQUIDES</th>\n",
       "      <td>LOT DE 6. Sa belle robe dense est d’un rubis p...</td>\n",
       "      <td>6x_La Sirène de Giscours 2002 Margaux</td>\n",
       "      <td>AUCUNE</td>\n",
       "    </tr>\n",
       "  </tbody>\n",
       "</table>\n",
       "</div>"
      ],
      "text/plain": [
       "                                                                                  Description  \\\n",
       "Categorie1                                                                                      \n",
       "ADULTE - EROTIQUE                           Gode super réaliste ventouse haute qualité 15c...   \n",
       "ANIMALERIE - NEW                            Une ambiance douce et relaxante pour votre ani...   \n",
       "ARME DE COMBAT - ARME DE SPORT              Tapis micro fibres de la marque EclipseIdéal p...   \n",
       "ART DE LA TABLE - ARTICLES CULINAIRES       Sac à tarte Derrière La Porte Le dessert - Sac...   \n",
       "ARTICLES POUR FUMEUR                        Le vaporisateur Imag+ est joli, discret. Peut ...   \n",
       "AUTO - MOTO (NEW)                           Accoudoir pour Citroen C4 II 2010 - Accoudoir ...   \n",
       "BAGAGERIE                                   Sac bandoulière - Modèle féminin et chic Matiè...   \n",
       "BATEAU MOTEUR - VOILIER                     ANTIFOULING AEROSOL 500ML - 19990 Noir - Antif...   \n",
       "BIJOUX -  LUNETTES - MONTRES                Collier Argent \"Etoile\" blanc - Indémodable et...   \n",
       "BRICOLAGE - OUTILLAGE - QUINCAILLERIE       Douchette thérapeutique à économie d'eau - Non...   \n",
       "CHAUSSURES - ACCESSOIRES                    tsubo chaussure gris basket homme - tsubo chau...   \n",
       "CONDITIONNEMENT                             gélules vides - 1000 gélules bovine taille 1 -...   \n",
       "CULTURE / JEUX                              DVD The terror experiment - La veille de Noël,...   \n",
       "DECO - LINGE - LUMINAIRE                    Semainier Magnet Gourmandise Patisserie Vintag...   \n",
       "DROGUERIE (NEW)                             ONA GEL - 856 Gr - FRESH LINEN - ONA GEL - Fre...   \n",
       "ELECTROMENAGER                              Sachet inj.gaz nat. pour cuisinière FAGOR  - 2...   \n",
       "ELECTRONIQUE                                Relais monostable Phoenix ContactREL-IR/LDP-22...   \n",
       "EPICERIE                                    CREME D'AUBERGINES - Crème d'aubergines Absolu...   \n",
       "HYGIENE - BEAUTE - PARFUM                                        5 bouteilles colles art nail   \n",
       "INFORMATIQUE                                Batterie d'ordinateur toshiba satellite l300-2...   \n",
       "INSTRUMENTS DE MUSIQUE                      PACK SAMBA CONTEMPORANEA PRO - 20 INSTRUMENTS ...   \n",
       "JARDIN - PISCINE                            Idéal pour abriter de façon conviviale les gra...   \n",
       "JOUET (NEW)                                 Chaussons Juliette la chenille - Une paire de ...   \n",
       "LIBRAIRIE                                   De Edmond-Jean-Francois Barbier aux éditions E...   \n",
       "LITERIE                                     Ensemble Someo Matelas Tamise Confort 2013   S...   \n",
       "LOISIRS CREATIFS - BEAUX ARTS - PAPETERIE   Billet de banque Koweit Pk N° 14 - 5 Dinar - K...   \n",
       "MANUTENTION                                 Vérin à vis - 1 * Vérin à vis H.70-100mm n° 64...   \n",
       "MATERIEL DE BUREAU                          Customcard de Badge style Crocodile le clip po...   \n",
       "MATERIEL MEDICAL                            Dossier Relevable et plateau de rangementTétiè...   \n",
       "MERCERIE                                    PERLE 3/C - Ofil - La pelote de Laine Perlé 3/...   \n",
       "MEUBLE                                      Un maintien parfait, un confort optimal et un ...   \n",
       "PARAPHARMACIE                               NATURACTIVE Jojoba Huile végétale Bio - 50 ml ...   \n",
       "PHOTO - OPTIQUE                             Vikuiti MySunshadeDisplay Film de protection é...   \n",
       "POINT DE VENTE - COMMERCE - ADMINISTRATION  Vikuiti MySunshadeDisplay Film de protection é...   \n",
       "PUERICULTURE                                Doudou Bengy licorne plat rose corne bleu etat...   \n",
       "SONO - DJ                                   Omni-Direct Microphone dynamique - Conçu pour ...   \n",
       "SPORT (NEW)                                 Collants Endura Meryl Knickersii (300 Series P...   \n",
       "TATOUAGE - PIERCING                                  piercing arcade 1.2 mm x 8 mm tige acier   \n",
       "TELEPHONIE - GPS                            Coque souple Rose pour HTC ONE MINI motif I LO...   \n",
       "TENUE PROFESSIONNELLE                       Combinaison de travail pour soudeur ignifugée ...   \n",
       "TV - VIDEO - SON                            LG HX922 - Système Home Cinema - aluminium - L...   \n",
       "VETEMENTS - LINGERIE                        REEBOK Bonnet Polaire Alpine Blue Adulte Bleu ...   \n",
       "VIN - ALCOOL - LIQUIDES                     LOT DE 6. Sa belle robe dense est d’un rubis p...   \n",
       "\n",
       "                                                                                      Libelle  \\\n",
       "Categorie1                                                                                      \n",
       "ADULTE - EROTIQUE                             Gode super réaliste ventouse haute qualité 15cm   \n",
       "ANIMALERIE - NEW                                   Couchette animale Niclas S marron et blanc   \n",
       "ARME DE COMBAT - ARME DE SPORT                        Tapis micro fibres de la marque Eclipse   \n",
       "ART DE LA TABLE - ARTICLES CULINAIRES                Sac à tarte Derrière La Porte Le dessert   \n",
       "ARTICLES POUR FUMEUR                                                                IMAG PLUS   \n",
       "AUTO - MOTO (NEW)                                           Accoudoir pour Citroen C4 II 2010   \n",
       "BAGAGERIE                                                                     Sac bandoulière   \n",
       "BATEAU MOTEUR - VOILIER                                ANTIFOULING AEROSOL 500ML - 19990 Noir   \n",
       "BIJOUX -  LUNETTES - MONTRES                                    Collier Argent \"Etoile\" blanc   \n",
       "BRICOLAGE - OUTILLAGE - QUINCAILLERIE                Douchette thérapeutique à économie d'eau   \n",
       "CHAUSSURES - ACCESSOIRES                                       tsubo chaussure gris ba 40 1/2   \n",
       "CONDITIONNEMENT                                  gélules vides - 1000 gélules bovine taille 1   \n",
       "CULTURE / JEUX                                                      DVD The terror experiment   \n",
       "DECO - LINGE - LUMINAIRE                    Semainier Magnet Gourmandise Patisserie Vintag...   \n",
       "DROGUERIE (NEW)                                                ONA GEL - 856 Gr - FRESH LINEN   \n",
       "ELECTROMENAGER                               Sachet inj.gaz nat. pour cuisinière FAGOR  - 2C…   \n",
       "ELECTRONIQUE                                 Relais monostable Phoenix ContactREL-IR/LDP-220…   \n",
       "EPICERIE                                                                   CREME D'AUBERGINES   \n",
       "HYGIENE - BEAUTE - PARFUM                                                   5 colles art nail   \n",
       "INFORMATIQUE                                 Batterie d'ordinateur toshiba satellite l300-20w   \n",
       "INSTRUMENTS DE MUSIQUE                          PACK SAMBA CONTEMPORANEA PRO - 20 INSTRUMENTS   \n",
       "JARDIN - PISCINE                              Tente de jardin Pergola tonnelle Barnum 3 x 4 M   \n",
       "JOUET (NEW)                                                    Chaussons Juliette la chenille   \n",
       "LIBRAIRIE                                   Chronique de la régence et du règne de Louis X...   \n",
       "LITERIE                                      Ensemble Someo Matelas Tamise Confort 2013   So…   \n",
       "LOISIRS CREATIFS - BEAUX ARTS - PAPETERIE          Billet de banque Koweit Pk N° 14 - 5 Dinar   \n",
       "MANUTENTION                                                                       Vérin à vis   \n",
       "MATERIEL DE BUREAU                          Customcard de Badge style Crocodile le clip po...   \n",
       "MATERIEL MEDICAL                                           TABLE DE MASSAGE FIXE BOIS ONEILLA   \n",
       "MERCERIE                                                                     PERLE 3/C - Ofil   \n",
       "MEUBLE                                                  Canapé en CUIR 3 places Chocolat LIMA   \n",
       "PARAPHARMACIE                                   NATURACTIVE Jojoba Huile végétale Bio - 50 ml   \n",
       "PHOTO - OPTIQUE                             Vikuiti MySunshadeDisplay Film de protection é...   \n",
       "POINT DE VENTE - COMMERCE - ADMINISTRATION  Vikuiti MySunshadeDisplay Film de protection é...   \n",
       "PUERICULTURE                                Doudou Bengy licorne plat rose corne bleu etat...   \n",
       "SONO - DJ                                                    Omni-Direct Microphone dynamique   \n",
       "SPORT (NEW)                                                    Collants Endura Meryl Knick XL   \n",
       "TATOUAGE - PIERCING                                                          piercing arcade    \n",
       "TELEPHONIE - GPS                             Coque souple Rose pour HTC ONE MINI motif I LOV…   \n",
       "TENUE PROFESSIONNELLE                                            Combinaison de travail po XL   \n",
       "TV - VIDEO - SON                                  LG HX922 - Système Home Cinema - aluminium…   \n",
       "VETEMENTS - LINGERIE                        REEBOK Bonnet Polaire Alpine Blue Adulte Bleu ...   \n",
       "VIN - ALCOOL - LIQUIDES                                 6x_La Sirène de Giscours 2002 Margaux   \n",
       "\n",
       "                                                         Marque  \n",
       "Categorie1                                                       \n",
       "ADULTE - EROTIQUE                                        AUCUNE  \n",
       "ANIMALERIE - NEW                                         AUCUNE  \n",
       "ARME DE COMBAT - ARME DE SPORT                   PLANET ECLIPSE  \n",
       "ART DE LA TABLE - ARTICLES CULINAIRES         DERRIERE LA PORTE  \n",
       "ARTICLES POUR FUMEUR                                     AUCUNE  \n",
       "AUTO - MOTO (NEW)                                        AUCUNE  \n",
       "BAGAGERIE                                                AUCUNE  \n",
       "BATEAU MOTEUR - VOILIER                                  AUCUNE  \n",
       "BIJOUX -  LUNETTES - MONTRES                LES TRESORS DE LILY  \n",
       "BRICOLAGE - OUTILLAGE - QUINCAILLERIE       ARTICLES MAISON.COM  \n",
       "CHAUSSURES - ACCESSOIRES                                  TSUBO  \n",
       "CONDITIONNEMENT                                 FRANÇOIS NATURE  \n",
       "CULTURE / JEUX                                           AUCUNE  \n",
       "DECO - LINGE - LUMINAIRE                                PROMOBO  \n",
       "DROGUERIE (NEW)                                          AUCUNE  \n",
       "ELECTROMENAGER                                            FAGOR  \n",
       "ELECTRONIQUE                                    PHOENIX CONTACT  \n",
       "EPICERIE                                                 AUCUNE  \n",
       "HYGIENE - BEAUTE - PARFUM                                AUCUNE  \n",
       "INFORMATIQUE                                            TOSHIBA  \n",
       "INSTRUMENTS DE MUSIQUE                            CONTEMPORANEA  \n",
       "JARDIN - PISCINE                                        NO NAME  \n",
       "JOUET (NEW)                                        LILLIPUTIENS  \n",
       "LIBRAIRIE                                                        \n",
       "LITERIE                                                   SOMEO  \n",
       "LOISIRS CREATIFS - BEAUX ARTS - PAPETERIE                AUCUNE  \n",
       "MANUTENTION                                              AUCUNE  \n",
       "MATERIEL DE BUREAU                                       AUCUNE  \n",
       "MATERIEL MEDICAL                              COMPTOIR DU MONDE  \n",
       "MERCERIE                                               SPERENZA  \n",
       "MEUBLE                                      LA MAISON DU CANAPÉ  \n",
       "PARAPHARMACIE                                       NATURACTIVE  \n",
       "PHOTO - OPTIQUE                                         VIKUITI  \n",
       "POINT DE VENTE - COMMERCE - ADMINISTRATION              VIKUITI  \n",
       "PUERICULTURE                                              BENGY  \n",
       "SONO - DJ                                            RADIOSHACK  \n",
       "SPORT (NEW)                                              ENDURA  \n",
       "TATOUAGE - PIERCING                                      AUCUNE  \n",
       "TELEPHONIE - GPS                                        MUZZANO  \n",
       "TENUE PROFESSIONNELLE                                     DASSY  \n",
       "TV - VIDEO - SON                                 LG ELECTRONICS  \n",
       "VETEMENTS - LINGERIE                                     REEBOK  \n",
       "VIN - ALCOOL - LIQUIDES                                  AUCUNE  "
      ]
     },
     "execution_count": 145,
     "metadata": {},
     "output_type": "execute_result"
    }
   ],
   "source": [
    "data_train.groupby(\"Categorie1\").first()[[\"Description\",\"Libelle\",\"Marque\"]]"
   ]
  },
  {
   "cell_type": "markdown",
   "metadata": {},
   "source": [
    "##### Collectez les mesures clés\n",
    "Une fois que vous avez vérifié les données, collectez les mesures importantes suivantes qui peuvent vous aider à caractériser votre problème de classification de texte:\n",
    "\n",
    "* **la taille  d'échantillons** : nombre total d'exemples que vous avez dans les données.\n",
    "\n",
    "* **Nombre de classes** : nombre total de sujets ou de catégories dans les données\n",
    "* **Nombre d'échantillons par classe** : Nombre d'échantillons par classe (sujet / catégorie). Dans un ensemble de données équilibré, toutes les classes auront un nombre similaire d'échantillons; dans un ensemble de données déséquilibré, le nombre d'échantillons dans chaque classe variera considérablement.\n",
    "\n",
    "* **Nombre de mots par échantillon** : nombre médian de mots dans un échantillon.\n",
    "\n",
    "*  **Distribution de fréquence des mots** : Distribution montrant la fréquence (nombre d'occurrences) de chaque mot dans l'ensemble de données.\n",
    "\n",
    "* **Distribution de la longueur de l'échantillon** : Distribution montrant le nombre de mots par échantillon dans l'ensemble de données.\n"
   ]
  },
  {
   "cell_type": "code",
   "execution_count": 109,
   "metadata": {},
   "outputs": [],
   "source": [
    "def get_num_words_per_sample(sample_texts):\n",
    "    \"\"\"Returns the median number of words per sample given corpus.\n",
    "\n",
    "    # Arguments\n",
    "        sample_texts: list, sample texts.\n",
    "\n",
    "    # Returns\n",
    "        int, median number of words per sample.\n",
    "    \"\"\"\n",
    "    num_words = [len(s.split()) for s in sample_texts]\n",
    "    return np.median(num_words)\n",
    "\n",
    "def plot_sample_length_distribution(sample_texts):\n",
    "    \"\"\"Plots the sample length distribution.\n",
    "\n",
    "    # Arguments\n",
    "        samples_texts: list, sample texts.\n",
    "    \"\"\"\n",
    "    plt.hist([len(s.split()) for s in sample_texts], 50)\n",
    "    plt.xlabel('Length of a sample')\n",
    "    plt.ylabel('Number of samples')\n",
    "    plt.title('Sample length distribution')\n",
    "    plt.show()\n",
    "    \n",
    "def plot_frequency_distribution_of_ngrams(sample_texts,\n",
    "                                          ngram_range=(1, 2),\n",
    "                                          num_ngrams=50):\n",
    "    \"\"\"Plots the frequency distribution of n-grams.\n",
    "    # Arguments\n",
    "        samples_texts: list, sample texts.\n",
    "        ngram_range: tuple (min, mplt), The range of n-gram values to consider.\n",
    "            Min and mplt are the lower and upper bound values for the range.\n",
    "        num_ngrams: int, number of n-grams to plot.\n",
    "            Top `num_ngrams` frequent n-grams will be plotted.\n",
    "    \"\"\"\n",
    "    # Create args required for vectorizing.\n",
    "    kwargs = {\n",
    "            'ngram_range': (1, 1),\n",
    "            'dtype': 'int32',\n",
    "            'strip_accents': 'unicode',\n",
    "            'decode_error': 'replace',\n",
    "            'analyzer': 'word',  # Split text into word tokens.\n",
    "    }\n",
    "    vectorizer = CountVectorizer(**kwargs)\n",
    "\n",
    "    # This creates a vocabulary (dict, where keys are n-grams and values are\n",
    "    # idxices). This also converts every text to an array the length of\n",
    "    # vocabulary, where every element idxicates the count of the n-gram\n",
    "    # corresponding at that idxex in vocabulary.\n",
    "    vectorized_texts = vectorizer.fit_transform(sample_texts)\n",
    "\n",
    "    # This is the list of all n-grams in the index order from the vocabulary.\n",
    "    all_ngrams = list(vectorizer.get_feature_names())\n",
    "    num_ngrams = min(num_ngrams, len(all_ngrams))\n",
    "    # ngrams = all_ngrams[:num_ngrams]\n",
    "\n",
    "    # Add up the counts per n-gram ie. column-wise\n",
    "    all_counts = vectorized_texts.sum(axis=0).tolist()[0]\n",
    "\n",
    "    # Sort n-grams and counts by frequency and get top `num_ngrams` ngrams.\n",
    "    all_counts, all_ngrams = zip(*[(c, n) for c, n in sorted(\n",
    "        zip(all_counts, all_ngrams), reverse=True)])\n",
    "    ngrams = list(all_ngrams)[:num_ngrams]\n",
    "    counts = list(all_counts)[:num_ngrams]\n",
    "    \n",
    "    fig=plt.figure(figsize= (20,10))\n",
    "    ax = fig.add_subplot(1,1,1)\n",
    "    idx = np.arange(num_ngrams)\n",
    "    plt.bar(idx, counts, width=0.7, color='b')\n",
    "    plt.xlabel('N-grams')\n",
    "    plt.ylabel('Frequencies')\n",
    "    plt.title('Frequency distribution of n-grams')\n",
    "    plt.xticks(idx, ngrams, rotation=45)\n",
    "    plt.show()"
   ]
  },
  {
   "cell_type": "code",
   "execution_count": 6,
   "metadata": {},
   "outputs": [
    {
     "ename": "NameError",
     "evalue": "name 'data_train' is not defined",
     "output_type": "error",
     "traceback": [
      "\u001b[1;31m---------------------------------------------------------------------------\u001b[0m",
      "\u001b[1;31mNameError\u001b[0m                                 Traceback (most recent call last)",
      "\u001b[1;32m<ipython-input-6-85b7c9a867bd>\u001b[0m in \u001b[0;36m<module>\u001b[1;34m\u001b[0m\n\u001b[0;32m      1\u001b[0m \u001b[1;31m#la taille d'échantillons\u001b[0m\u001b[1;33m\u001b[0m\u001b[1;33m\u001b[0m\u001b[1;33m\u001b[0m\u001b[0m\n\u001b[1;32m----> 2\u001b[1;33m \u001b[0mdata_train\u001b[0m\u001b[1;33m[\u001b[0m\u001b[1;34m\"Categorie1\"\u001b[0m\u001b[1;33m]\u001b[0m\u001b[1;33m.\u001b[0m\u001b[0mcount\u001b[0m\u001b[1;33m(\u001b[0m\u001b[1;33m)\u001b[0m\u001b[1;33m\u001b[0m\u001b[1;33m\u001b[0m\u001b[0m\n\u001b[0m",
      "\u001b[1;31mNameError\u001b[0m: name 'data_train' is not defined"
     ]
    }
   ],
   "source": [
    "#la taille d'échantillons\n",
    "data_train[\"Categorie1\"].count()"
   ]
  },
  {
   "cell_type": "code",
   "execution_count": 207,
   "metadata": {},
   "outputs": [
    {
     "data": {
      "text/plain": [
       "43"
      ]
     },
     "execution_count": 207,
     "metadata": {},
     "output_type": "execute_result"
    }
   ],
   "source": [
    "#total number of classes\n",
    "data_train[\"Categorie1\"].value_counts().count()"
   ]
  },
  {
   "cell_type": "markdown",
   "metadata": {},
   "source": [
    "L'une de nos principales préoccupations lors de l'élaboration d'un modèle de classification est de savoir si les différentes classes sont équilibrées . Cela signifie que l'ensemble de données contient une partie à peu près égale de chaque classe.\n",
    "Par exemple, si nous avions deux classes et 95% des observations appartenant à l'une d'elles, un classificateur stupide qui produirait toujours la classe majoritaire aurait une précision de 95%, bien qu'il échouerait à toutes les prédictions de la classe minoritaire."
   ]
  },
  {
   "cell_type": "code",
   "execution_count": 147,
   "metadata": {},
   "outputs": [
    {
     "data": {
      "image/png": "[encoded data removed]",
      "text/plain": [
       "<Figure size 720x720 with 1 Axes>"
      ]
     },
     "metadata": {
      "needs_background": "light"
     },
     "output_type": "display_data"
    }
   ],
   "source": [
    "#|Nombre d'échantillons par classe\n",
    "#Distribution des classes\n",
    "#Count occurence of each Categorie\n",
    "data_count = data_train[\"Categorie1\"].value_counts()\n",
    "#Rename index to add percentage\n",
    "new_index = [k+ \": %.2f%%\" %(v*100/N_train) for k,v in data_count.iteritems()]\n",
    "data_count.index = new_index\n",
    "\n",
    "fig=plt.figure(figsize= (10,10))\n",
    "ax = fig.add_subplot(1,1,1)\n",
    "data_count.plot.barh(logx = False)\n",
    "plt.show()"
   ]
  },
  {
   "cell_type": "markdown",
   "metadata": {},
   "source": [
    "On vois bien que les différentes classes sont déséquilibrés, Il existe plusieurs façons de traiter les ensembles de données déséquilibrés. Une première approche consiste à sous - échantillonner la classe majoritaire et à suréchantillonner celle minoritaire, afin d'obtenir un ensemble de données plus équilibré. Une autre approche peut être d'utiliser d'autres mesures d'erreur au-delà de la précision telles que la précision , le rappel ou le score F1 ."
   ]
  },
  {
   "cell_type": "code",
   "execution_count": 170,
   "metadata": {},
   "outputs": [
    {
     "data": {
      "text/plain": [
       "27.0"
      ]
     },
     "execution_count": 170,
     "metadata": {},
     "output_type": "execute_result"
    }
   ],
   "source": [
    "get_num_words_per_sample(data_train[\"Description\"])"
   ]
  },
  {
   "cell_type": "markdown",
   "metadata": {},
   "source": [
    "Voyons quelles sont les valeurs de ces métriques pour notres l'ensemble de données\n",
    "\n",
    "|Nom métrique |\tValeur métrique|\n",
    "|-------------|----------------|\n",
    "|Nombre d'échantillons |\t40850|\n",
    "|Nombre de classes|44\n",
    "|Nombre de mots par échantillon|\t27"
   ]
  },
  {
   "cell_type": "code",
   "execution_count": 149,
   "metadata": {},
   "outputs": [
    {
     "data": {
      "image/png": "[encoded data removed]",
      "text/plain": [
       "<Figure size 432x288 with 1 Axes>"
      ]
     },
     "metadata": {
      "needs_background": "light"
     },
     "output_type": "display_data"
    }
   ],
   "source": [
    "plot_sample_length_distribution(data_train[\"Description\"])"
   ]
  },
  {
   "cell_type": "code",
   "execution_count": 150,
   "metadata": {},
   "outputs": [
    {
     "data": {
      "image/png": "[encoded data removed]",
      "text/plain": [
       "<Figure size 1440x720 with 1 Axes>"
      ]
     },
     "metadata": {
      "needs_background": "light"
     },
     "output_type": "display_data"
    }
   ],
   "source": [
    "plot_frequency_distribution_of_ngrams(data_train[\"Description\"])"
   ]
  },
  {
   "cell_type": "markdown",
   "metadata": {},
   "source": [
    "## Étape 2.5: Choisissez un modèle\n",
    "\n",
    "À ce stade, nous avons assemblé notre ensemble de données et obtenu un aperçu des principales caractéristiques de nos données. Ensuite, sur la base des métriques que nous avons rassemblées à l' étape 2 , nous devons réfléchir au modèle de classification que nous devons utiliser. Cela signifie poser des questions telles que: \n",
    "\n",
    "* Comment présenter les données de texte à un algorithme qui attend une entrée numérique?» (cela s'appelle le prétraitement et la vectorisation des données)\n",
    "* Quel type de modèle devons-nous utiliser?\n",
    "* Quels paramètres de configuration devons-nous utiliser pour notre modèle? , etc.\n",
    "\n",
    "Grâce à des décennies de recherche, nous avons accès à un large éventail d'options de prétraitement des données et de configuration des modèles. Cependant, la disponibilité d'un très large éventail d'options fiables à choisir augmente considérablement la complexité et la portée du problème particulier à résoudre. Étant donné que les meilleures options peuvent ne pas être évidentes, une solution naïve serait d'essayer toutes les options possibles de manière exhaustive, en élaguant certains choix par intuition. Cependant, cela coûterait énormément cher.\n",
    "\n",
    "Dans cet article, nous tentons de simplifier considérablement le processus de sélection d'un modèle de classification de texte. Pour un ensemble de données donné, notre objectif est de trouver l'algorithme qui atteint une précision proche du maximum tout en minimisant le temps de calcul requis pour la formation.\n",
    "\n",
    "\n",
    "L'algorithme de sélection de modèle et l'organigramme ci-dessous sont un résumé pour construire votre première expérience . expliqueront en détail."
   ]
  },
  {
   "cell_type": "markdown",
   "metadata": {},
   "source": [
    "1. Calculez le nombre d'échantillons / nombre de mots par rapport à l'échantillon. \n",
    "2. Si ce ratio est inférieur à 1 500, jetez le texte en n-grammes et utilisez un \n",
    "modèle de perceptron multicouche (MLP) simple pour les classer (branche de gauche dans l' \n",
    "organigramme ci-dessous): \n",
    "  * a. Divisez les échantillons en n-grammes de mots; convertir les n-grammes en vecteurs. \n",
    "  * b. Marquez l'importance des vecteurs, puis sélectionnez les 20K premiers en utilisant les scores. \n",
    "  * c. Créez un modèle MLP. \n",
    "3. Si le rapport est supérieur à 1500, jetez le texte en séquences et utilisez un \n",
    "   modèle sepCNN pour les classer (branche de droite dans l'organigramme ci-dessous):  \n",
    "  * a. Divisez les échantillons en mots; sélectionnez les 20 premiers mots en fonction de leur fréquence.\n",
    "  * b. Convertissez les échantillons en vecteurs de séquence de mots. \n",
    "  * c. Si le nombre d'échantillons / nombre de mots par échantillon d'origine est inférieur\n",
    "     que 15K, l'utilisation d'une intégration pré-entraînée affinée avec le \n",
    "     modèle sepCNN fournira probablement les meilleurs résultats. \n",
    "4. Mesurez les performances du modèle avec différentes valeurs d'hyperparamètre pour trouver \n",
    "   la meilleure configuration de modèle pour l'ensemble de données."
   ]
  },
  {
   "cell_type": "markdown",
   "metadata": {},
   "source": [
    "Dans l'organigramme ci-dessous, les cases jaunes indiquent les processus de préparation des données et des modèles. Les cases grises et vertes indiquent les choix que nous avons envisagés pour chaque processus. Les cases vertes indiquent notre choix recommandé pour chaque processus.\n",
    "\n",
    "Vous pouvez utiliser cet organigramme comme point de départ pour construire votre première expérience, car il vous donnera une bonne précision à faible coût de calcul. Vous pouvez ensuite continuer à améliorer votre modèle initial au cours des itérations suivantes"
   ]
  },
  {
   "cell_type": "markdown",
   "metadata": {},
   "source": [
    "![](data/orga.PNG)"
   ]
  },
  {
   "cell_type": "markdown",
   "metadata": {},
   "source": [
    "Cet organigramme répond à deux questions clés:\n",
    "\n",
    "* Quel algorithme ou modèle d'apprentissage devrions-nous utiliser?\n",
    "\n",
    "* Comment préparer les données pour apprendre efficacement la relation entre le texte et l'étiquette?\n",
    "\n",
    "La réponse à la deuxième question dépend de la réponse à la première question; la façon dont nous pré-traitons les données à introduire dans un modèle dépendra du modèle que nous choisirons. Les modèles peuvent être classés en deux grandes catégories:\n",
    "\n",
    "* ceux qui utilisent des informations de classement des mots (modèles de séquence) \n",
    "* ceux qui ne voient que le texte comme des «sacs» (ensembles) de mots (modèles à n grammes).\n",
    "\n",
    "Les types de modèles de séquence comprennent les réseaux de neurones convolutifs (CNN), les réseaux de neurones récurrents (RNN) et leurs variations.\n",
    "\n",
    "Les types de modèles à n grammes incluent la régression logistique , les perceptrons multicouches simples (MLP ou réseaux neuronaux entièrement connectés), les arbres boostés par le gradient et les machines à vecteurs de support ...\n",
    "\n",
    "Selon les expériences menées par les chercheurs , nous avons observé que le rapport du «la taile d'échantillons» (S) au «nombre de mots par échantillon» (W) est en corrélation avec le modèle qui fonctionne bien.\n",
    "\n",
    "Lorsque la valeur de ce rapport est petite (<1500), les modèle qui prennent n-grammes en entrée (que nous appellerons Option A ) fonctionnent mieux ou au moins aussi bien que les modèles de séquence. Les modèle qui prennent n-grammes en entrée sont simples à définir et à comprendre, et ils prennent moins de temps de calcul que les modèles de séquence. Lorsque la valeur de ce rapport est grande (> = 1500), utilisez un modèle de séquence ( option B ). Dans les étapes qui suivent, vous pouvez passer aux sous-sections pertinentes (étiquetées A ou B ) pour le type de modèle que vous avez choisi en fonction du rapport échantillons / mots par échantillon.\n",
    "\n",
    "Dans le cas de notre jeu de données, nous allons d'abord implémenter l'option A , puis une autre option B prochainement."
   ]
  },
  {
   "cell_type": "markdown",
   "metadata": {},
   "source": [
    "### Étape 3: Préparez vos données"
   ]
  },
  {
   "cell_type": "markdown",
   "metadata": {},
   "source": [
    "Avant que nos données puissent être introduites dans un modèle, elles doivent être transformées dans un format que le modèle peut comprendre"
   ]
  },
  {
   "cell_type": "markdown",
   "metadata": {},
   "source": [
    "Premièrement, les échantillons de données que nous avons collectés peuvent être dans un ordre spécifique. Nous ne voulons pas que les informations associées à l'ordre des échantillons influencent la relation entre les textes et les étiquettes. Par exemple, si un ensemble de données est trié par classe et ensuite divisé en ensembles d'apprentissage / validation, ces ensembles ne seront pas représentatifs de la distribution globale des données.\n",
    "\n",
    "Une bonne pratique simple pour garantir que le modèle n'est pas affecté par l'ordre des données est de toujours mélanger les données avant de faire quoi que ce soit. Si vos données sont déjà divisées en ensembles de formation et de validation, assurez-vous de transformer vos données de validation de la même manière que vous transformez vos données de formation. Si vous n'avez pas encore d'ensembles de formation et de validation séparés, vous pouvez diviser les échantillons après avoir mélangé, il est habituel d'utiliser 80% des échantillons pour la formation et 20% pour la validation.\n",
    "\n",
    "Deuxièmement, les algorithmes d'apprentissage machine prennent les nombres comme entrées. Cela signifie que nous devrons convertir les textes en vecteurs numériques. Ce processus comporte deux étapes :"
   ]
  },
  {
   "cell_type": "markdown",
   "metadata": {},
   "source": [
    "* Tokenisation : divisez les textes en mots ou en sous-textes plus petits, ce qui permettra une bonne généralisation des relations entre les textes et les labels. Cela détermine le «vocabulaire» de l'ensemble de données (ensemble de jetons uniques présents dans les données).\n",
    "\n",
    "* Vectorisation : définir une bonne mesure numérique pour caractériser ces textes.\n",
    "\n",
    "Voyons comment effectuer ces deux étapes pour les vecteurs n-gramme et les vecteurs de séquence, ainsi que pour optimiser les représentations vectorielles à l'aide des techniques de sélection et de normalisation des caractéristiques."
   ]
  },
  {
   "cell_type": "markdown",
   "metadata": {},
   "source": [
    "#### Vecteurs à N grammes [Option A]\n",
    "Dans les paragraphes suivants, nous verrons comment effectuer la tokenisation et la vectorisation pour les modèles à n grammes. Nous verrons également comment nous pouvons optimiser la représentation du gramme en utilisant des techniques de sélection et de normalisation des caractéristiques.\n",
    "\n",
    "Dans un vecteur n-gram, le texte est représenté comme une collection de n-grammes uniques: des groupes de n jetons adjacents (généralement, des mots). Considérez le texte \" Je vais au concert ce soir\". Ici, les mots unigrammes (n = 1) le sont ['je', 'vais', 'au', 'concert', 'ce','soir'], le mot bigrammes (n = 2) le sont ['je vais', 'vais au', 'au concert', 'concert ce', 'ce soir'], etc..\n"
   ]
  },
  {
   "cell_type": "markdown",
   "metadata": {},
   "source": [
    "###### Tokenisation\n",
    "Nous avons constaté que la tokenisation en mots unigrammes + bigrammes fournit une bonne précision tout en prenant moins de temps de calcul.\n",
    "\n",
    "###### Vectorisation\n",
    "Une fois que nous avons divisé nos échantillons de texte en n-grammes, nous devons transformer ces n-grammes en vecteurs numériques que nos modèles d'apprentissage automatique peuvent traiter. L'exemple ci-dessous montre les index attribués aux unigrammes et bigrammes générés pour deux exemples de textes."
   ]
  },
  {
   "cell_type": "markdown",
   "metadata": {},
   "source": [
    "Textes: **'La souris a couru vers le haut '** et **'La souris a couru vers le bas'** \n",
    "\n",
    "Index attribué à chaque jeton: {'le': 1, 'souris': 2, 'a': 3 'couru': 4, 'vers': 5, 'haut': 6, \n",
    "  ' la souris ': 7,'souris a': 8,' a couru ': 9,'couru vers ': 10,'vers le ': 11,'le haut': 12,'bas': 13, 'le bas': 14}"
   ]
  },
  {
   "cell_type": "markdown",
   "metadata": {},
   "source": [
    "Une fois que les index sont attribués aux n-grammes, nous vectorisons généralement en utilisant l'une des options suivantes.\n",
    "\n",
    "**One-hot encoding** : chaque exemple de texte est représenté par un vecteur de longueur N, où N est la taille du vocabulaire. Le vocabulaire est le nombre total de mots uniques dans le document. ce vecteur indiquant la présence ou l'absence d'un jeton dans le texte.\n",
    "\n",
    "'La souris a couru vers le haut' = [1, 1, 1, 1, 1, 1, 1, 1, 1, 1, 1, 1,0,0]\n",
    "\n",
    "\n",
    "**Count encoding**: chaque exemple de texte est représenté comme un vecteur indiquant le décompte d'un jeton dans le texte. Notez que l'élément correspondant à l'unigramme «le»  est maintenant représenté par 2 car le mot «le» apparaît deux fois dans le texte.\n",
    "\n",
    "'La souris a couru vers le haut' = [1, 1, 1, 1, 1, 1, 1, 1, 1, 1, 1, 1,0,0]\n"
   ]
  },
  {
   "cell_type": "markdown",
   "metadata": {},
   "source": [
    "Tf-idf encoding: Le problème avec les deux approches ci-dessus est que les mots communs qui apparaissent a des fréquences similaires dans tous les documents (c'est-à-dire les mots qui ne sont pas particulièrement spécifiques aux échantillons de texte dans l'ensemble de données) ne sont pas pénalisés. Par exemple, des mots comme «a» apparaîtront très fréquemment dans tous les textes. Ainsi, un nombre de jetons plus élevé pour «le» que pour d'autres mots plus significatifs n'est pas très utile.\n",
    "\n",
    "'La souris a couru vers le haut' = [0.23, 0.33, 0.33, 0.33, 0.33, 0.47, 0.33, 0.33, 0.23, 0.33, 0.33,0.47, 0, 0]\n",
    "\n",
    "\n",
    "Il existe de nombreuses autres représentations vectorielles, mais les trois ci-dessus sont les plus couramment utilisées.\n",
    "\n",
    "Nous avons observé que le codage tf-idf est légèrement meilleur que les deux autres en termes de précision (en moyenne: 0,25 à 15% plus élevé), et nous recommandons d'utiliser cette méthode pour vectoriser les n-grammes. Cependant, gardez à l'esprit qu'il occupe plus de mémoire (car il utilise une représentation en virgule flottante) et prend plus de temps à calculer, en particulier pour les grands ensembles de données (peut prendre deux fois plus de temps dans certains cas)."
   ]
  },
  {
   "cell_type": "markdown",
   "metadata": {},
   "source": [
    "#### Sélection des  Features\n",
    "\n",
    "Lorsque nous convertissons tous les textes d'un ensemble de données en jetons mot uni + bigram, nous pouvons nous retrouver avec des dizaines de milliers de jetons. Tous ces jetons / fonctionnalités ne contribuent pas à la prédiction d'étiquette. Nous pouvons donc supprimer certains jetons, par exemple ceux qui se produisent extrêmement rarement dans l'ensemble de données. Nous pouvons également mesurer l'importance des fonctionnalités (dans quelle mesure chaque jeton contribue aux prédictions d'étiquette), et inclure uniquement les jetons les plus informatifs.\n",
    "\n",
    "Il existe de nombreuses fonctions statistiques qui prennent les features et les étiquettes correspondantes et affichent le score d'importance des features. Deux fonctions couramment utilisées sont **f_classif** et **chi2** . Nos expériences montrent que ces deux fonctions fonctionnent également bien.\n",
    "\n",
    " "
   ]
  },
  {
   "cell_type": "code",
   "execution_count": 40,
   "metadata": {},
   "outputs": [],
   "source": [
    "corpus = ['La souris ae couru vers le haut',\n",
    "           'La souris ae couru vers le bas',\n",
    "           ]"
   ]
  },
  {
   "cell_type": "markdown",
   "metadata": {},
   "source": [
    "Normalisation\n",
    "la normalisation convertit toutes les valeurs de caractéristique en valeurs petites et similaires. Cela simplifie la convergence de descente de gradient dans les algorithmes d'apprentissage. D'après ce que nous avons vu, la normalisation pendant le prétraitement des données ne semble pas ajouter beaucoup de valeur aux problèmes de classification de texte; nous vous recommandons de sauter cette étape.\n",
    "\n",
    "\n",
    "Le code suivant regroupe toutes les étapes ci-dessus:\n",
    "\n",
    "* Tokenize des échantillons de texte en mot uni + bigrammes,\n",
    "* Vectoriser en utilisant l'encodage tf-idf,\n",
    "* Sélectionnez uniquement les 20 000 premières fonctionnalités du vecteur de jetons en supprimant les jetons qui apparaissent      moins de 2 fois et en utilisant f_classif pour calculer l'importance des fonctionnalités."
   ]
  },
  {
   "cell_type": "code",
   "execution_count": 1,
   "metadata": {},
   "outputs": [],
   "source": [
    "from sklearn.feature_extraction.text import TfidfVectorizer\n",
    "from sklearn.feature_selection import SelectKBest\n",
    "from sklearn.feature_selection import f_classif\n",
    "from spacy.lang.fr import French\n",
    "\n",
    "nlp = French()\n",
    "\n",
    "def spacy_tokenizer(sentence):\n",
    "    # Creating our token object, which is used to create documents with linguistic annotations.\n",
    "    mytokens = nlp(sentence)\n",
    "\n",
    "    # Lemmatizing each token and converting each token into lowercase\n",
    "    mytokens = [word.lemma_.lower() for word in mytokens if\n",
    "                not word.is_punct and not word.like_num and word.text != 'n']\n",
    "\n",
    "    # Removing stop words\n",
    "    #mytokens = [word for word in mytokens if word not in stop_words]\n",
    "\n",
    "    # Remove accentuated char for any unicode symbol\n",
    "    mytokens = [strip_accents_ascii(word) for word in mytokens]\n",
    "\n",
    "    # return preprocessed list of tokens\n",
    "    return mytokens\n",
    "\n",
    "# Vectorization parameters\n",
    "# Range (inclusive) of n-gram sizes for tokenizing text.\n",
    "NGRAM_RANGE = (1, 2)\n",
    "\n",
    "# Limit on the number of features. We use the top 20K features.\n",
    "TOP_K = 20000\n",
    "\n",
    "# Whether text should be split into word or character n-grams.\n",
    "# One of 'word', 'char'.\n",
    "TOKEN_MODE = 'word'\n",
    "\n",
    "# Minimum document/corpus frequency below which a token will be discarded.\n",
    "MIN_DOCUMENT_FREQUENCY = 2\n",
    "\n",
    "def ngram_vectorize(train_texts, train_labels, val_texts):\n",
    "    \"\"\"Vectorizes texts as n-gram vectors.\n",
    "\n",
    "    1 text = 1 tf-idf vector the length of vocabulary of unigrams + bigrams.\n",
    "\n",
    "    # Arguments\n",
    "        train_texts: list, training text strings.\n",
    "        train_labels: np.ndarray, training labels.\n",
    "        val_texts: list, validation text strings.\n",
    "\n",
    "    # Returns\n",
    "        x_train, x_val: vectorized training and validation texts\n",
    "    \"\"\"\n",
    "    # Create keyword arguments to pass to the 'tf-idf' vectorizer.\n",
    "    kwargs = {\n",
    "            'ngram_range': NGRAM_RANGE,  # Use 1-grams + 2-grams.\n",
    "            'dtype': 'int32',\n",
    "            'strip_accents': 'unicode',\n",
    "            'decode_error': 'replace',\n",
    "            'analyzer': TOKEN_MODE,  # Split text into word tokens.\n",
    "            'min_df': MIN_DOCUMENT_FREQUENCY,\n",
    "    }\n",
    "    vectorizer = TfidfVectorizer(**kwargs)\n",
    "\n",
    "    # Learn vocabulary from training texts and vectorize training texts.\n",
    "    x_train = vectorizer.fit_transform(train_texts)\n",
    "\n",
    "    # Vectorize validation texts.\n",
    "    x_val = vectorizer.transform(val_texts)\n",
    "\n",
    "    # Select top 'k' of the vectorized features.\n",
    "    selector = SelectKBest(f_classif, k=min(TOP_K, x_train.shape[1]))\n",
    "    selector.fit(x_train, train_labels)\n",
    "    x_train = selector.transform(x_train).astype('float32')\n",
    "    x_val = selector.transform(x_val).astype('float32')\n",
    "    return x_train, x_val"
   ]
  },
  {
   "cell_type": "markdown",
   "metadata": {},
   "source": [
    "Avec la représentation vectorielle n-gram, nous jetons beaucoup d'informations sur l'ordre des mots et la grammaire. C'est ce que l'on appelle une approche «sac de mots». Cette représentation est utilisée en conjonction avec des modèles qui ne tiennent pas compte de l'ordre, tels que la régression logistique, les perceptrons multicouches, les machines de renforcement de gradient, les machines à vecteurs de support."
   ]
  },
  {
   "cell_type": "markdown",
   "metadata": {},
   "source": [
    "### Vecteurs de séquence [Option B]\n",
    "\n",
    "\n",
    "Dans les paragraphes suivants, nous verrons comment effectuer la tokenisation et la vectorisation pour les modèles de séquence. Nous verrons également comment nous pouvons optimiser la représentation des séquences en utilisant des techniques de sélection et de normalisation des caractéristiques.\n",
    "\n",
    "Pour certains exemples de texte, l'ordre des mots est essentiel à la signification du texte. Des modèles tels que les CNN / RNN peuvent déduire le sens de l'ordre des mots dans un text. Pour ces modèles, nous représentons le texte comme une séquence de jetons, en préservant l'ordre.\n",
    "\n",
    "**Tokenisation**\n",
    "\n",
    "Le texte peut être représenté soit par une séquence de caractères, soit par une séquence de mots. Nous avons constaté que l'utilisation de la représentation au niveau des mots offre de meilleures performances que les jetons de caractères. C'est également la norme générale suivie par l'industrie. L'utilisation de jetons de caractère n'a de sens que si les textes contiennent beaucoup de fautes de frappe, ce qui n'est pas normalement le cas.\n",
    "\n",
    "**Vectorisation**\n",
    "\n",
    "Une fois que nous avons converti nos échantillons de texte en séquences de mots, nous devons transformer ces séquences en vecteurs numériques. L'exemple ci-dessous montre les index affectés aux unigrammes générés pour deux textes, puis la séquence d'index de jetons vers laquelle le premier texte est converti."
   ]
  },
  {
   "cell_type": "markdown",
   "metadata": {},
   "source": [
    "Il existe de nombreuses bibliothèques puissantes disponibles en Python qui peuvent nous aider dans la tokenisation. Une fois que nous avons converti les données textuelles en jetons, nous devons ensuite mapper chaque jeton sur un vecteur. Le codage **One-hot encoding** et **Word embeddings** sont les deux approches les plus courantes pour mapper des tokens à des  vecteurs. Le diagramme suivant résume les étapes de conversion du texte en leurs représentations vectorielles."
   ]
  },
  {
   "cell_type": "markdown",
   "metadata": {},
   "source": [
    "![](data/vect.PNG)"
   ]
  },
  {
   "cell_type": "markdown",
   "metadata": {},
   "source": [
    "**One-hot encoding** :\n",
    "\n",
    "les séquences sont représentées à l'aide de vecteurs de mots dans un espace à n dimensions où n = taille du vocabulaire. Cette représentation fonctionne très bien lorsque nous représentons le comme une séquence de caractères, et le vocabulaire est donc petit. Lorsque nous tokenisons le text sous forme de mots, le vocabulaire aura généralement des dizaines de milliers de tokens, ce qui rend les vecteurs One-hot encoding très rares et inefficaces."
   ]
  },
  {
   "cell_type": "markdown",
   "metadata": {},
   "source": [
    "**Word embeddings**\n",
    "\n",
    "Word embeddings est une méthode très populaire pour représenter des données textuelles dans des problèmes résolus par des algorithmes d'apprentissage profond.\n",
    "les mots ont une ou des significations qui leur sont associées. Par conséquent, nous pouvons représenter des jetons de mots dans un espace relativement faible dimension, \n",
    "La dimension vectorielle varie en fonction de la taille du vocabulaire. Il est courant d'utiliser un mot de dimension 50, 100, 256, 300 et parfois 1 000, où l'emplacement et la distance entre les mots indiquent leur similitude sémantique. autrement dit les vecteur seront ajustés de manière à ce que les mots les plus proches sémantiquement aient une représentation similaire."
   ]
  },
  {
   "cell_type": "markdown",
   "metadata": {},
   "source": [
    "**Word embeddings pré-formés** \n",
    "Il existe un certain nombre de vecteurs de mots pré-formés disponibles, tels que:\n",
    "\n",
    "* SpaCy (word2vec)\n",
    "* FastText\n",
    "* GloVe\n",
    "* Poincare\n",
    "* Elmo (Language Model)\n",
    "* Numberbatch\n",
    "* Flair\n",
    "\n",
    "Nous pouvons également extraire des Word embeddings à partir des couches cachées de tous les modèles de langage pré-formés comme BERT"
   ]
  },
  {
   "cell_type": "markdown",
   "metadata": {},
   "source": [
    "**Selection des features**\n",
    "\n",
    "Tous les mots de nos données ne contribuent pas aux prédictions d'étiquettes. Nous pouvons optimiser notre processus d'apprentissage en éliminant les mots rares ou non pertinents de notre vocabulaire. En fait, nous observons que l'utilisation des 20 000 fonctionnalités les plus fréquentes est généralement suffisante. Cela vaut également pour les modèles à n grammes.\n",
    "\n",
    "Mettons ensemble toutes les étapes ci-dessus dans la vectorisation de séquence. Le code suivant effectue ces tâches:\n",
    "\n",
    "* Tokenise les textes en mots\n",
    "* Crée un vocabulaire en utilisant les 20 000 premiers jetons\n",
    "* Convertit les jetons en vecteurs de séquence\n",
    "* Remplit les séquences à une longueur de séquence fixe"
   ]
  },
  {
   "cell_type": "code",
   "execution_count": 5,
   "metadata": {},
   "outputs": [],
   "source": [
    "from tensorflow.python.keras.preprocessing import sequence\n",
    "from tensorflow.python.keras.preprocessing import text\n",
    "\n",
    "# Vectorization parameters\n",
    "# Limit on the number of features. We use the top 20K features.\n",
    "TOP_K = 20000\n",
    "\n",
    "# Limit on the length of text sequences. Sequences longer than this\n",
    "# will be truncated.\n",
    "MAX_SEQUENCE_LENGTH = 500\n",
    "\n",
    "def sequence_vectorize(train_texts, val_texts):\n",
    "    \"\"\"Vectorizes texts as sequence vectors.\n",
    "\n",
    "    1 text = 1 sequence vector with fixed length.\n",
    "\n",
    "    # Arguments\n",
    "        train_texts: list, training text strings.\n",
    "        val_texts: list, validation text strings.\n",
    "\n",
    "    # Returns\n",
    "        x_train, x_val, word_index: vectorized training and validation\n",
    "            texts and word index dictionary.\n",
    "    \"\"\"\n",
    "    # Create vocabulary with training texts.\n",
    "    tokenizer = text.Tokenizer(num_words=TOP_K)\n",
    "    tokenizer.fit_on_texts(train_texts)\n",
    "\n",
    "    # Vectorize training and validation texts.\n",
    "    x_train = tokenizer.texts_to_sequences(train_texts)\n",
    "    x_val = tokenizer.texts_to_sequences(val_texts)\n",
    "\n",
    "    # Get max sequence length.\n",
    "    max_length = len(max(x_train, key=len))\n",
    "    if max_length > MAX_SEQUENCE_LENGTH:\n",
    "        max_length = MAX_SEQUENCE_LENGTH\n",
    "\n",
    "    # Fix sequence length to max value. Sequences shorter than the length are\n",
    "    # padded in the beginning and sequences longer are truncated\n",
    "    # at the beginning.\n",
    "    x_train = sequence.pad_sequences(x_train, maxlen=max_length)\n",
    "    x_val = sequence.pad_sequences(x_val, maxlen=max_length)\n",
    "    return x_train, x_val, tokenizer.word_index"
   ]
  },
  {
   "cell_type": "markdown",
   "metadata": {},
   "source": [
    "Conclustion\n",
    "\n",
    "Dans cet article, nous avons appris différentes techniques pour représenter des données textuelles , nous avons décomposé le workflow de classification de texte en plusieurs étapes. \n",
    "Pour chaque étape, nous avons proposé une approche personnalisée basée sur les caractéristiques de votre jeu de données spécifique. En particulier, en utilisant le rapport du nombre d'échantillons au nombre de mots par échantillon.\n",
    "\n",
    "Dans l'article suivant, nous apprendrons comment former des algorithmes de machine learning pour chaque aproche proposé dans cet article (Vecteurs à N grammes et Vecteurs de séquence.\n"
   ]
  }
 ],
 "metadata": {
  "kernelspec": {
   "display_name": "Python 3",
   "language": "python",
   "name": "python3"
  },
  "language_info": {
   "codemirror_mode": {
    "name": "ipython",
    "version": 3
   },
   "file_extension": ".py",
   "mimetype": "text/x-python",
   "name": "python",
   "nbconvert_exporter": "python",
   "pygments_lexer": "ipython3",
   "version": "3.6.8"
  }
 },
 "nbformat": 4,
 "nbformat_minor": 2
}
